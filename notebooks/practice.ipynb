{
 "cells": [
  {
   "cell_type": "markdown",
   "metadata": {},
   "source": [
    "# Practice"
   ]
  },
  {
   "cell_type": "code",
   "execution_count": 7,
   "metadata": {},
   "outputs": [],
   "source": [
    "import numpy as np\n",
    "import torch\n",
    "\n",
    "\n",
    "box1 = np.array([1.0, 2.0, 3.0, 4.0])"
   ]
  },
  {
   "cell_type": "code",
   "execution_count": 37,
   "metadata": {},
   "outputs": [],
   "source": [
    "def calc_iou(box1, box2):\n",
    "    \"\"\"\n",
    "    Param: box1, box2\n",
    "    Return: Intersection over Union of two boxes\n",
    "    \n",
    "    Each boxes should be like [x1, y1, x2, y2],\n",
    "    and x1 <= x2, y1 <= y2\n",
    "    \"\"\"\n",
    "    \n",
    "    (ax1, ay1, ax2, ay2) = box1\n",
    "    (bx1, by1, bx2, by2) = box2\n",
    "    \n",
    "    assert (ax1 <= ax2) & (ay1 <= ay2)\n",
    "    assert (bx1 <= bx2) & (by1 <= by2)\n",
    "    \n",
    "    cx1 = max(ax1, bx1)\n",
    "    cy1 = max(ay1, by1)\n",
    "    cx2 = min(ax2, bx2)\n",
    "    cy2 = min(ay2, by2)\n",
    "    \n",
    "    assert (cx1 <= cx2) & (cy1 <= cy2)\n",
    "        \n",
    "    a_area = (ax2 - ax1) * (ay2 - ay1)\n",
    "    b_area = (bx2 - bx1) * (by2 - by1)\n",
    "    c_area = (cx2 - cx1) * (cy2 - cy1)\n",
    "        \n",
    "    union_area = a_area + b_area - c_area\n",
    "    intersecion_area = c_area\n",
    "    \n",
    "    smooth = 1e-6\n",
    "#     print(intersecion_area)\n",
    "    \n",
    "    return (intersecion_area + smooth) / (union_area + smooth)"
   ]
  },
  {
   "cell_type": "code",
   "execution_count": 99,
   "metadata": {},
   "outputs": [],
   "source": [
    "def calc_iou_many_to_one(boxes, ground_truth):\n",
    "    \"\"\"\n",
    "    Param: boxes: shape([N, 4]), ground_truth: shape([4])\n",
    "    Return: IoU of boxes over on ground truth box\n",
    "    \n",
    "    Each boxes should be like [x1, y1, x2, y2],\n",
    "    and x1 <= x2, y1 <= y2\n",
    "    \"\"\"\n",
    "    \n",
    "    (gt_x1, gt_y1, gt_x2, gt_y2) = ground_truth\n",
    "    boxes_x1s = boxes[:, 0]\n",
    "    boxes_y1s = boxes[:, 1]\n",
    "    boxes_x2s = boxes[:, 2]\n",
    "    boxes_y2s = boxes[:, 3]\n",
    "    \n",
    "    assert (gt_x1 <= gt_x2) & (gt_y1 <= gt_y2)\n",
    "    assert (boxes_x1s <= boxes_x2s).all() & (boxes_y1s <= boxes_y2s).all()\n",
    "    \n",
    "    inter_x1s = torch.max(boxes_x1s, gt_x1)\n",
    "    inter_y1s = torch.max(boxes_y1s, gt_y1)\n",
    "    inter_x2s = torch.min(boxes_x2s, gt_x2)\n",
    "    inter_y2s = torch.min(boxes_y2s, gt_y2)\n",
    "    \n",
    "    assert (inter_x1s <= inter_x2s).all() & (inter_y1s <= inter_y2s).all()\n",
    "        \n",
    "    gt_area = (gt_x2 - gt_x1) * (gt_y2 - gt_y1)\n",
    "    box_areas = (boxes_x2s - boxes_x1s) * (boxes_y2s - boxes_y1s)\n",
    "    intersect_areas = (inter_x2s - inter_x1s) * (inter_y2s - inter_y1s)\n",
    "    \n",
    "    union_area = gt_area + box_areas - intersect_areas\n",
    "    intersecion_area = intersect_areas\n",
    "\n",
    "    smooth = 1e-6    \n",
    "    return (intersecion_area + smooth) / (union_area + smooth)\n"
   ]
  },
  {
   "cell_type": "code",
   "execution_count": 162,
   "metadata": {},
   "outputs": [],
   "source": [
    "def determine_anchor_label(anchors, ground_truth, pos_threshold=0.7, neg_threshold=0.3):\n",
    "    \"\"\"\n",
    "    Determine a label of anchors.\n",
    "    \n",
    "    Params:\n",
    "        Anchors: array of [x1, y1, x2, y2]. shape([N, 4])\n",
    "        ground_truth: ground truth bbox. shape([4])\n",
    "        pos_threshold: IoU Threshold used to determine positive anchor\n",
    "        neg_threshold: IoU Threshold used to determine negative anchor\n",
    "    \n",
    "    Return:\n",
    "        Tensor of integer values denoting the label of anchors. shape([N])\n",
    "        \n",
    "        Positive: 1\n",
    "        Negative: 0\n",
    "        Neither positive or negative: -1\n",
    "    \"\"\"\n",
    "    \n",
    "    num_of_anchors = anchors.shape[0]\n",
    "    labels = -torch.ones(num_of_anchors)\n",
    "    \n",
    "    ious = calc_iou_many_to_one(anchors, ground_truth)\n",
    "    \n",
    "    # First positive condition: Highest IoU with ground truth\n",
    "    max_index = torch.argmax(ious).item()\n",
    "    labels[max_index] = 1\n",
    "    print(labels)\n",
    "    \n",
    "    # Second positive condition: Higher than 0.7 or equal wihh 0.7 IoU with ground truth\n",
    "    positive_flags = torch.ge(ious, 0.7)\n",
    "    labels[positive_flags] = 1\n",
    "    print(labels)\n",
    "    \n",
    "    # Negative condition: Among non-positive anchors, less than 0.3 IoU\n",
    "    negative_flags = torch.eq(labels, -1) & torch.lt(ious, 0.3)\n",
    "    labels[negative_flags] = 0\n",
    "    print(labels)\n",
    "    \n",
    "    return labels"
   ]
  },
  {
   "cell_type": "code",
   "execution_count": null,
   "metadata": {},
   "outputs": [],
   "source": []
  },
  {
   "cell_type": "code",
   "execution_count": 163,
   "metadata": {},
   "outputs": [],
   "source": [
    "ground_truth = torch.tensor([2.0, 2.0, 5.0, 5.0])\n",
    "\n",
    "many_boxes = torch.tensor([\n",
    "    [2.0, 2.0, 5.0, 5.0],\n",
    "    [1.0, 4.0, 3.0, 6.0],\n",
    "    [2.0, 2.0, 5.0, 6.0],\n",
    "    [2.0, 2.0, 4.0, 4.0],\n",
    "    [3.0, 3.0, 4.0, 4.0]\n",
    "])"
   ]
  },
  {
   "cell_type": "code",
   "execution_count": 164,
   "metadata": {},
   "outputs": [
    {
     "name": "stdout",
     "output_type": "stream",
     "text": [
      "tensor([ 1., -1., -1., -1., -1.])\n",
      "tensor([ 1., -1.,  1., -1., -1.])\n",
      "tensor([ 1.,  0.,  1., -1.,  0.])\n"
     ]
    },
    {
     "data": {
      "text/plain": [
       "tensor([ 1.,  0.,  1., -1.,  0.])"
      ]
     },
     "execution_count": 164,
     "metadata": {},
     "output_type": "execute_result"
    }
   ],
   "source": [
    "labels = determine_anchor_label(many_boxes, ground_truth)\n",
    "labels"
   ]
  },
  {
   "cell_type": "code",
   "execution_count": 165,
   "metadata": {},
   "outputs": [
    {
     "data": {
      "text/plain": [
       "tensor([1.0000, 0.0833, 0.7500, 0.4444, 0.1111])"
      ]
     },
     "execution_count": 165,
     "metadata": {},
     "output_type": "execute_result"
    }
   ],
   "source": [
    "ret = calc_iou_many_to_one(many_boxes, ground_truth)\n",
    "ret"
   ]
  },
  {
   "cell_type": "code",
   "execution_count": 124,
   "metadata": {},
   "outputs": [],
   "source": [
    "labels = -torch.ones(many_boxes.shape[0])"
   ]
  },
  {
   "cell_type": "code",
   "execution_count": 125,
   "metadata": {},
   "outputs": [
    {
     "data": {
      "text/plain": [
       "tensor([-1., -1., -1., -1., -1.])"
      ]
     },
     "execution_count": 125,
     "metadata": {},
     "output_type": "execute_result"
    }
   ],
   "source": [
    "labels"
   ]
  },
  {
   "cell_type": "code",
   "execution_count": 130,
   "metadata": {},
   "outputs": [
    {
     "name": "stdout",
     "output_type": "stream",
     "text": [
      "tensor([-0.3040,  2.2147, -0.3318,  0.5717,  1.1755])\n"
     ]
    }
   ],
   "source": [
    "a = torch.randn(5)\n",
    "print(a)\n",
    "max_index = torch.argmax(a).item()"
   ]
  },
  {
   "cell_type": "code",
   "execution_count": 131,
   "metadata": {},
   "outputs": [
    {
     "data": {
      "text/plain": [
       "1"
      ]
     },
     "execution_count": 131,
     "metadata": {},
     "output_type": "execute_result"
    }
   ],
   "source": [
    "max_index"
   ]
  },
  {
   "cell_type": "code",
   "execution_count": null,
   "metadata": {},
   "outputs": [],
   "source": []
  },
  {
   "cell_type": "code",
   "execution_count": null,
   "metadata": {},
   "outputs": [],
   "source": []
  }
 ],
 "metadata": {
  "kernelspec": {
   "display_name": "Python 3",
   "language": "python",
   "name": "python3"
  },
  "language_info": {
   "codemirror_mode": {
    "name": "ipython",
    "version": 3
   },
   "file_extension": ".py",
   "mimetype": "text/x-python",
   "name": "python",
   "nbconvert_exporter": "python",
   "pygments_lexer": "ipython3",
   "version": "3.8.5"
  }
 },
 "nbformat": 4,
 "nbformat_minor": 4
}
