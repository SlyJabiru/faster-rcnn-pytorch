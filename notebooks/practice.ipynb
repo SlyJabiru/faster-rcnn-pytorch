{
 "cells": [
  {
   "cell_type": "markdown",
   "metadata": {},
   "source": [
    "# Practice"
   ]
  },
  {
   "cell_type": "code",
   "execution_count": 175,
   "metadata": {},
   "outputs": [],
   "source": [
    "import numpy as np\n",
    "import torch\n",
    "import torch.nn as nn"
   ]
  },
  {
   "cell_type": "code",
   "execution_count": 37,
   "metadata": {},
   "outputs": [],
   "source": [
    "def calc_iou(box1, box2):\n",
    "    \"\"\"\n",
    "    Param: box1, box2\n",
    "    Return: Intersection over Union of two boxes\n",
    "    \n",
    "    Each boxes should be like [x1, y1, x2, y2],\n",
    "    and x1 <= x2, y1 <= y2\n",
    "    \"\"\"\n",
    "    \n",
    "    (ax1, ay1, ax2, ay2) = box1\n",
    "    (bx1, by1, bx2, by2) = box2\n",
    "    \n",
    "    assert (ax1 <= ax2) & (ay1 <= ay2)\n",
    "    assert (bx1 <= bx2) & (by1 <= by2)\n",
    "    \n",
    "    cx1 = max(ax1, bx1)\n",
    "    cy1 = max(ay1, by1)\n",
    "    cx2 = min(ax2, bx2)\n",
    "    cy2 = min(ay2, by2)\n",
    "    \n",
    "    assert (cx1 <= cx2) & (cy1 <= cy2)\n",
    "        \n",
    "    a_area = (ax2 - ax1) * (ay2 - ay1)\n",
    "    b_area = (bx2 - bx1) * (by2 - by1)\n",
    "    c_area = (cx2 - cx1) * (cy2 - cy1)\n",
    "        \n",
    "    union_area = a_area + b_area - c_area\n",
    "    intersecion_area = c_area\n",
    "    \n",
    "    smooth = 1e-6\n",
    "#     print(intersecion_area)\n",
    "    \n",
    "    return (intersecion_area + smooth) / (union_area + smooth)"
   ]
  },
  {
   "cell_type": "code",
   "execution_count": 99,
   "metadata": {},
   "outputs": [],
   "source": [
    "def calc_iou_many_to_one(boxes, ground_truth):\n",
    "    \"\"\"\n",
    "    Param: boxes: shape([N, 4]), ground_truth: shape([4])\n",
    "    Return: IoU of boxes over on ground truth box\n",
    "    \n",
    "    Each boxes should be like [x1, y1, x2, y2],\n",
    "    and x1 <= x2, y1 <= y2\n",
    "    \"\"\"\n",
    "    \n",
    "    (gt_x1, gt_y1, gt_x2, gt_y2) = ground_truth\n",
    "    boxes_x1s = boxes[:, 0]\n",
    "    boxes_y1s = boxes[:, 1]\n",
    "    boxes_x2s = boxes[:, 2]\n",
    "    boxes_y2s = boxes[:, 3]\n",
    "    \n",
    "    assert (gt_x1 <= gt_x2) & (gt_y1 <= gt_y2)\n",
    "    assert (boxes_x1s <= boxes_x2s).all() & (boxes_y1s <= boxes_y2s).all()\n",
    "    \n",
    "    inter_x1s = torch.max(boxes_x1s, gt_x1)\n",
    "    inter_y1s = torch.max(boxes_y1s, gt_y1)\n",
    "    inter_x2s = torch.min(boxes_x2s, gt_x2)\n",
    "    inter_y2s = torch.min(boxes_y2s, gt_y2)\n",
    "    \n",
    "    assert (inter_x1s <= inter_x2s).all() & (inter_y1s <= inter_y2s).all()\n",
    "        \n",
    "    gt_area = (gt_x2 - gt_x1) * (gt_y2 - gt_y1)\n",
    "    box_areas = (boxes_x2s - boxes_x1s) * (boxes_y2s - boxes_y1s)\n",
    "    intersect_areas = (inter_x2s - inter_x1s) * (inter_y2s - inter_y1s)\n",
    "    \n",
    "    union_area = gt_area + box_areas - intersect_areas\n",
    "    intersecion_area = intersect_areas\n",
    "\n",
    "    smooth = 1e-6    \n",
    "    return (intersecion_area + smooth) / (union_area + smooth)\n"
   ]
  },
  {
   "cell_type": "code",
   "execution_count": 234,
   "metadata": {},
   "outputs": [],
   "source": [
    "def determine_anchor_label(anchors, ground_truth, pos_threshold=0.7, neg_threshold=0.3):\n",
    "    \"\"\"\n",
    "    Determine a label of anchors.\n",
    "    \n",
    "    Params:\n",
    "        Anchors: array of [x1, y1, x2, y2]. shape([N, 4])\n",
    "        ground_truth: ground truth bbox. shape([4])\n",
    "        pos_threshold: IoU Threshold used to determine positive anchor\n",
    "        neg_threshold: IoU Threshold used to determine negative anchor\n",
    "    \n",
    "    Return:\n",
    "        Tensor of integer values denoting the label of anchors. shape([N])\n",
    "        \n",
    "        Positive: 1\n",
    "        Negative: 0\n",
    "        Neither positive or negative: -1\n",
    "    \"\"\"\n",
    "    \n",
    "    num_of_anchors = anchors.shape[0]\n",
    "    labels = -torch.ones(num_of_anchors)\n",
    "    \n",
    "    ious = calc_iou_many_to_one(anchors, ground_truth)\n",
    "    print(ious)\n",
    "    \n",
    "    # First positive condition: Highest IoU with ground truth\n",
    "    max_index = torch.argmax(ious).item()\n",
    "    labels[max_index] = 1\n",
    "    \n",
    "    # Second positive condition: Higher than pos_threshold or equal wihh pos_threshold IoU with ground truth\n",
    "    positive_flags = torch.ge(ious, pos_threshold)\n",
    "    labels[positive_flags] = 1\n",
    "    \n",
    "    # Negative condition: Among non-positive anchors, less than neg_threshold IoU\n",
    "    negative_flags = torch.eq(labels, -1) & torch.lt(ious, neg_threshold)\n",
    "    labels[negative_flags] = 0\n",
    "    \n",
    "    return labels\n"
   ]
  },
  {
   "cell_type": "code",
   "execution_count": 235,
   "metadata": {},
   "outputs": [],
   "source": [
    "def rpn_loss_cls(preds, labels):\n",
    "    \"\"\"\n",
    "    Classification loss of RPN Layer.\n",
    "    Log loss between probability that anchor is object and binary ground truth label\n",
    "    \n",
    "    Params:\n",
    "        preds: Probabilities that anchors are objects\n",
    "        labels: Labels that anchors are objects\n",
    "    \"\"\"\n",
    "    \n",
    "    assert torch.all(torch.ge(preds, 0.0))\n",
    "    assert torch.all(torch.le(preds, 1.0))\n",
    "    \n",
    "    binary_cross_entropy = nn.BCELoss(reduction='none')\n",
    "    output = binary_cross_entropy(preds, labels)\n",
    "    return output"
   ]
  },
  {
   "cell_type": "code",
   "execution_count": 236,
   "metadata": {},
   "outputs": [],
   "source": [
    "def smooth_L1(ti, ti_star):\n",
    "    \"\"\"\n",
    "    smooth L1 function:\n",
    "        0.5 * (x^2) if abs(x) < 1\n",
    "        abs(x) - 0.5 otherwise\n",
    "\n",
    "    Params:\n",
    "        ti: shape([N])\n",
    "        ti_star: shape([N])\n",
    "    \n",
    "    Return: score: shape([N])\n",
    "    \"\"\"\n",
    "    abs_sub = torch.abs(ti - ti_star)\n",
    "    \n",
    "    smaller_than_1 = torch.where(abs_sub < 1)\n",
    "    greater_than_1 = torch.where(abs_sub >= 1)\n",
    "    \n",
    "    abs_sub[smaller_than_1] = torch.pow(abs_sub[smaller_than_1], 2) / 2\n",
    "    abs_sub[greater_than_1] = abs_sub[greater_than_1] - 0.5\n",
    "        \n",
    "    return abs_sub"
   ]
  },
  {
   "cell_type": "code",
   "execution_count": 237,
   "metadata": {},
   "outputs": [],
   "source": [
    "def rpn_loss_reg(pred_boxes, anchor_boxes, gt_box):\n",
    "    # TODO: gt_box? or gt_boxes?\n",
    "    \"\"\"\n",
    "    Regression loss of RPN Layer.\n",
    "    \n",
    "    Params:\n",
    "        pred_boxes: Predicted boxes by RPN layer. shape([N, 4])\n",
    "        anchor_boxes: Anchor boxes used by the predictions. shape([N, 4])\n",
    "        gt_box: Ground truth box of image. shape([4])\n",
    "    \"\"\"\n",
    "    \n",
    "    x = pred_boxes[:, 0]\n",
    "    y = pred_boxes[:, 1]\n",
    "    w = pred_boxes[:, 2] - pred_boxes[:, 0]\n",
    "    h = pred_boxes[:, 3] - pred_boxes[:, 1]\n",
    "\n",
    "    x_a = anchor_boxes[:, 0]\n",
    "    y_a = anchor_boxes[:, 1]\n",
    "    w_a = anchor_boxes[:, 2] - anchor_boxes[:, 0]\n",
    "    h_a = anchor_boxes[:, 3] - anchor_boxes[:, 1]\n",
    "\n",
    "    x_star = gt_box[0]\n",
    "    y_star = gt_box[1]\n",
    "    w_star = gt_box[2] - gt_box[0]\n",
    "    h_star = gt_box[3] - gt_box[1]\n",
    "    \n",
    "    t_x = (x - x_a) / w_a\n",
    "    t_y = (y - y_a) / h_a\n",
    "    t_w = torch.log(w/w_a)\n",
    "    t_h = torch.log(h/h_a)\n",
    "    \n",
    "    t_x_star = (x_star - x_a) / w_a\n",
    "    t_y_star = (y_star - y_a) / h_a\n",
    "    t_w_star = torch.log(w_star/w_a)\n",
    "    t_h_star = torch.log(h_star/h_a)\n",
    "    \n",
    "    losses = torch.zeros(anchor_boxes.shape[0])\n",
    "    losses += smooth_L1(t_x, t_x_star)\n",
    "    losses += smooth_L1(t_y, t_y_star)\n",
    "    losses += smooth_L1(t_w, t_w_star)\n",
    "    losses += smooth_L1(t_h, t_h_star)\n",
    "    \n",
    "    return losses"
   ]
  },
  {
   "cell_type": "code",
   "execution_count": 238,
   "metadata": {},
   "outputs": [],
   "source": [
    "def multitask_loss(pred_probs,\n",
    "                   pred_boxes, anchor_boxes, gt_box,\n",
    "                   anchor_num=9, balance=10):\n",
    "    \"\"\"\n",
    "    \n",
    "    L(p, t) = (1/N_cls) * sigma{L_cls(pi, pi_star)} + lambda * (1/N_reg) * sigma{pi_star * L_reg(ti, ti_star)}\n",
    "    \"\"\"\n",
    "    \n",
    "    # Positive: 1 Negative: 0 Neither positive or negative: -1\n",
    "    labels = determine_anchor_label(anchor_boxes, gt_box)\n",
    "    \n",
    "    # Only get positive and negative anchors\n",
    "    valid_indices = torch.where(labels > -0.5)\n",
    "    valid_labels = labels[valid_indices] # pi_star\n",
    "    valid_pred_probs = pred_probs[valid_indices]\n",
    "    valid_pred_boxes = pred_boxes[valid_indices]\n",
    "    valid_anchor_boxes = anchor_boxes[valid_indices]\n",
    "    \n",
    "    cls_loss = rpn_loss_cls(valid_pred_probs, valid_labels)\n",
    "    reg_loss = rpn_loss_reg(valid_pred_boxes, valid_anchor_boxes, gt_box)\n",
    "    positive_reg_loss = reg_loss * valid_labels\n",
    "    \n",
    "    n_cls = anchor_boxes.shape[0] / anchor_num\n",
    "    n_reg = anchor_boxes.shape[0]\n",
    "    \n",
    "    cls_term = torch.sum(cls_loss) / n_cls\n",
    "    reg_term = torch.sum(positive_reg_loss) / n_reg * balance\n",
    "    \n",
    "    return cls_term + reg_term"
   ]
  },
  {
   "cell_type": "code",
   "execution_count": null,
   "metadata": {},
   "outputs": [],
   "source": []
  },
  {
   "cell_type": "code",
   "execution_count": 224,
   "metadata": {},
   "outputs": [
    {
     "data": {
      "text/plain": [
       "5"
      ]
     },
     "execution_count": 224,
     "metadata": {},
     "output_type": "execute_result"
    }
   ],
   "source": [
    "len(pred_boxes)"
   ]
  },
  {
   "cell_type": "code",
   "execution_count": 254,
   "metadata": {},
   "outputs": [],
   "source": [
    "gt_box = torch.tensor([2.0, 2.0, 5.0, 5.0])\n",
    "\n",
    "pred_boxes = torch.tensor([\n",
    "    [2.0, 2.0, 5.0, 4.5],\n",
    "    [1.0, 4.0, 3.0, 6.0],\n",
    "    [2.0, 2.0, 5.0, 6.0],\n",
    "    [2.0, 2.0, 4.0, 4.0],\n",
    "    [3.0, 3.0, 4.0, 4.0]\n",
    "])\n",
    "\n",
    "anchor_boxes = torch.tensor([\n",
    "    [2.0, 2.0, 5.0, 4.3],\n",
    "    [1.0, 4.0, 3.0, 6.0],\n",
    "    [4.0, 4.0, 6.0, 6.0],\n",
    "    [2.0, 2.0, 5.0, 4.5],\n",
    "    [3.0, 3.0, 4.0, 4.0]\n",
    "])"
   ]
  },
  {
   "cell_type": "code",
   "execution_count": 255,
   "metadata": {},
   "outputs": [],
   "source": [
    "pred_probs = torch.tensor([0.1, 0.2, 0.3, 0.4, 0.5])"
   ]
  },
  {
   "cell_type": "code",
   "execution_count": 256,
   "metadata": {},
   "outputs": [
    {
     "name": "stdout",
     "output_type": "stream",
     "text": [
      "tensor([0.7667, 0.0833, 0.0833, 0.8333, 0.1111])\n",
      "reg_loss: tensor([0.0166, 0.7894, 0.0414, 0.1644, 2.1972])\n",
      "labels: tensor([1., 0., 0., 1., 0.])\n",
      "valid_indices: tensor([1., 0., 0., 1., 0.])\n",
      "positive_only: tensor([0.0166, 0.0000, 0.0000, 0.1644, 0.0000])\n"
     ]
    },
    {
     "data": {
      "text/plain": [
       "tensor(3.7222)"
      ]
     },
     "execution_count": 256,
     "metadata": {},
     "output_type": "execute_result"
    }
   ],
   "source": [
    "multitask_loss(pred_probs, pred_boxes, anchor_boxes, gt_box, anchor_num=2, balance=3)"
   ]
  },
  {
   "cell_type": "code",
   "execution_count": 196,
   "metadata": {},
   "outputs": [
    {
     "data": {
      "text/plain": [
       "tensor([0.0000, 0.7894, 0.0414, 0.1644, 2.1972])"
      ]
     },
     "execution_count": 196,
     "metadata": {},
     "output_type": "execute_result"
    }
   ],
   "source": [
    "rpn_loss_reg(pred_boxes, anchor_boxes, gt_box)"
   ]
  },
  {
   "cell_type": "code",
   "execution_count": null,
   "metadata": {},
   "outputs": [],
   "source": []
  },
  {
   "cell_type": "code",
   "execution_count": 186,
   "metadata": {},
   "outputs": [],
   "source": [
    "x = pred_boxes[:, 0]\n",
    "y = pred_boxes[:, 1]\n",
    "w = pred_boxes[:, 2] - pred_boxes[:, 0]\n",
    "h = pred_boxes[:, 3] - pred_boxes[:, 1]\n",
    "\n",
    "x_a = anchor_boxes[:, 0]\n",
    "y_a = anchor_boxes[:, 1]\n",
    "w_a = anchor_boxes[:, 2] - anchor_boxes[:, 0]\n",
    "h_a = anchor_boxes[:, 3] - anchor_boxes[:, 1]\n",
    "\n",
    "x_star = gt_box[0]\n",
    "y_star = gt_box[1]\n",
    "w_star = gt_box[2] - gt_box[0]\n",
    "h_star = gt_box[3] - gt_box[1]\n",
    "\n",
    "t_x = (x - x_a) / w_a\n",
    "t_y = (y - y_a) / h_a\n",
    "t_w = torch.log(w/w_a)\n",
    "t_h = torch.log(h/h_a)\n",
    "\n",
    "t_x_star = (x_star - x_a) / w_a\n",
    "t_y_star = (y_star - y_a) / h_a\n",
    "t_w_star = torch.log(w_star/w_a)\n",
    "t_h_star = torch.log(h_star/h_a)"
   ]
  },
  {
   "cell_type": "code",
   "execution_count": 185,
   "metadata": {},
   "outputs": [
    {
     "data": {
      "text/plain": [
       "tensor([ 0.5000,  0.0000, -1.0000,  0.0000,  0.0000])"
      ]
     },
     "execution_count": 185,
     "metadata": {},
     "output_type": "execute_result"
    }
   ],
   "source": [
    "(x - x_a) / w_a"
   ]
  },
  {
   "cell_type": "code",
   "execution_count": 183,
   "metadata": {},
   "outputs": [
    {
     "data": {
      "text/plain": [
       "tensor([1., 1., 4., 2., 3.])"
      ]
     },
     "execution_count": 183,
     "metadata": {},
     "output_type": "execute_result"
    }
   ],
   "source": [
    "x_a"
   ]
  },
  {
   "cell_type": "code",
   "execution_count": null,
   "metadata": {},
   "outputs": [],
   "source": []
  },
  {
   "cell_type": "code",
   "execution_count": null,
   "metadata": {},
   "outputs": [],
   "source": []
  },
  {
   "cell_type": "code",
   "execution_count": 164,
   "metadata": {},
   "outputs": [
    {
     "name": "stdout",
     "output_type": "stream",
     "text": [
      "tensor([ 1., -1., -1., -1., -1.])\n",
      "tensor([ 1., -1.,  1., -1., -1.])\n",
      "tensor([ 1.,  0.,  1., -1.,  0.])\n"
     ]
    },
    {
     "data": {
      "text/plain": [
       "tensor([ 1.,  0.,  1., -1.,  0.])"
      ]
     },
     "execution_count": 164,
     "metadata": {},
     "output_type": "execute_result"
    }
   ],
   "source": [
    "labels = determine_anchor_label(many_boxes, ground_truth)\n",
    "labels"
   ]
  },
  {
   "cell_type": "code",
   "execution_count": 165,
   "metadata": {},
   "outputs": [
    {
     "data": {
      "text/plain": [
       "tensor([1.0000, 0.0833, 0.7500, 0.4444, 0.1111])"
      ]
     },
     "execution_count": 165,
     "metadata": {},
     "output_type": "execute_result"
    }
   ],
   "source": [
    "ret = calc_iou_many_to_one(many_boxes, ground_truth)\n",
    "ret"
   ]
  },
  {
   "cell_type": "code",
   "execution_count": 124,
   "metadata": {},
   "outputs": [],
   "source": [
    "labels = -torch.ones(many_boxes.shape[0])"
   ]
  },
  {
   "cell_type": "code",
   "execution_count": 125,
   "metadata": {},
   "outputs": [
    {
     "data": {
      "text/plain": [
       "tensor([-1., -1., -1., -1., -1.])"
      ]
     },
     "execution_count": 125,
     "metadata": {},
     "output_type": "execute_result"
    }
   ],
   "source": [
    "labels"
   ]
  },
  {
   "cell_type": "code",
   "execution_count": 130,
   "metadata": {},
   "outputs": [
    {
     "name": "stdout",
     "output_type": "stream",
     "text": [
      "tensor([-0.3040,  2.2147, -0.3318,  0.5717,  1.1755])\n"
     ]
    }
   ],
   "source": [
    "a = torch.randn(5)\n",
    "print(a)\n",
    "max_index = torch.argmax(a).item()"
   ]
  },
  {
   "cell_type": "code",
   "execution_count": 131,
   "metadata": {},
   "outputs": [
    {
     "data": {
      "text/plain": [
       "1"
      ]
     },
     "execution_count": 131,
     "metadata": {},
     "output_type": "execute_result"
    }
   ],
   "source": [
    "max_index"
   ]
  },
  {
   "cell_type": "code",
   "execution_count": 187,
   "metadata": {},
   "outputs": [
    {
     "data": {
      "text/plain": [
       "tensor([ 1.,  0.,  1., -1.,  0.])"
      ]
     },
     "execution_count": 187,
     "metadata": {},
     "output_type": "execute_result"
    }
   ],
   "source": [
    "labels"
   ]
  },
  {
   "cell_type": "code",
   "execution_count": 188,
   "metadata": {},
   "outputs": [
    {
     "data": {
      "text/plain": [
       "(tensor([1, 3, 4]),)"
      ]
     },
     "execution_count": 188,
     "metadata": {},
     "output_type": "execute_result"
    }
   ],
   "source": [
    "torch.where(labels <= 0)"
   ]
  },
  {
   "cell_type": "code",
   "execution_count": 189,
   "metadata": {},
   "outputs": [
    {
     "data": {
      "text/plain": [
       "tensor([ 0., -1.,  0.])"
      ]
     },
     "execution_count": 189,
     "metadata": {},
     "output_type": "execute_result"
    }
   ],
   "source": [
    "labels[torch.where(labels <= 0)]"
   ]
  },
  {
   "cell_type": "code",
   "execution_count": 167,
   "metadata": {},
   "outputs": [
    {
     "data": {
      "text/plain": [
       "tensor([1., 0., 1., 1., 0.])"
      ]
     },
     "execution_count": 167,
     "metadata": {},
     "output_type": "execute_result"
    }
   ],
   "source": [
    "torch.abs(labels)"
   ]
  },
  {
   "cell_type": "code",
   "execution_count": 168,
   "metadata": {},
   "outputs": [],
   "source": [
    "import torch.nn as nn"
   ]
  },
  {
   "cell_type": "code",
   "execution_count": 169,
   "metadata": {},
   "outputs": [],
   "source": [
    "loss = nn.BCELoss()"
   ]
  },
  {
   "cell_type": "code",
   "execution_count": 170,
   "metadata": {},
   "outputs": [],
   "source": [
    "in_tensor = torch.randn(3)\n",
    "target = torch.empty(3).random_(2)"
   ]
  },
  {
   "cell_type": "code",
   "execution_count": 171,
   "metadata": {},
   "outputs": [
    {
     "data": {
      "text/plain": [
       "tensor([0.7203, 0.3384, 0.5297])"
      ]
     },
     "execution_count": 171,
     "metadata": {},
     "output_type": "execute_result"
    }
   ],
   "source": [
    "in_tensor"
   ]
  },
  {
   "cell_type": "code",
   "execution_count": 172,
   "metadata": {},
   "outputs": [
    {
     "data": {
      "text/plain": [
       "tensor([1., 0., 0.])"
      ]
     },
     "execution_count": 172,
     "metadata": {},
     "output_type": "execute_result"
    }
   ],
   "source": [
    "target"
   ]
  },
  {
   "cell_type": "code",
   "execution_count": 173,
   "metadata": {},
   "outputs": [],
   "source": [
    "output = loss(in_tensor, target)"
   ]
  },
  {
   "cell_type": "code",
   "execution_count": 174,
   "metadata": {},
   "outputs": [
    {
     "data": {
      "text/plain": [
       "tensor(0.4985)"
      ]
     },
     "execution_count": 174,
     "metadata": {},
     "output_type": "execute_result"
    }
   ],
   "source": [
    "output"
   ]
  },
  {
   "cell_type": "code",
   "execution_count": null,
   "metadata": {},
   "outputs": [],
   "source": []
  }
 ],
 "metadata": {
  "kernelspec": {
   "display_name": "Python 3",
   "language": "python",
   "name": "python3"
  },
  "language_info": {
   "codemirror_mode": {
    "name": "ipython",
    "version": 3
   },
   "file_extension": ".py",
   "mimetype": "text/x-python",
   "name": "python",
   "nbconvert_exporter": "python",
   "pygments_lexer": "ipython3",
   "version": "3.8.5"
  }
 },
 "nbformat": 4,
 "nbformat_minor": 4
}
