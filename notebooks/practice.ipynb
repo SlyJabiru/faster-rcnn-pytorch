{
 "cells": [
  {
   "cell_type": "markdown",
   "metadata": {},
   "source": [
    "# Practice"
   ]
  },
  {
   "cell_type": "code",
   "execution_count": 7,
   "metadata": {},
   "outputs": [],
   "source": [
    "import numpy as np\n",
    "import torch\n",
    "\n",
    "\n",
    "box1 = np.array([1.0, 2.0, 3.0, 4.0])"
   ]
  },
  {
   "cell_type": "code",
   "execution_count": 37,
   "metadata": {},
   "outputs": [],
   "source": [
    "def calc_iou(box1, box2):\n",
    "    \"\"\"\n",
    "    Param: box1, box2\n",
    "    Return: Intersection over Union of two boxes\n",
    "    \n",
    "    Each boxes should be like [x1, y1, x2, y2],\n",
    "    and x1 <= x2, y1 <= y2\n",
    "    \"\"\"\n",
    "    \n",
    "    (ax1, ay1, ax2, ay2) = box1\n",
    "    (bx1, by1, bx2, by2) = box2\n",
    "    \n",
    "    assert (ax1 <= ax2) & (ay1 <= ay2)\n",
    "    assert (bx1 <= bx2) & (by1 <= by2)\n",
    "    \n",
    "    cx1 = max(ax1, bx1)\n",
    "    cy1 = max(ay1, by1)\n",
    "    cx2 = min(ax2, bx2)\n",
    "    cy2 = min(ay2, by2)\n",
    "    \n",
    "    assert (cx1 <= cx2) & (cy1 <= cy2)\n",
    "        \n",
    "    a_area = (ax2 - ax1) * (ay2 - ay1)\n",
    "    b_area = (bx2 - bx1) * (by2 - by1)\n",
    "    c_area = (cx2 - cx1) * (cy2 - cy1)\n",
    "        \n",
    "    union_area = a_area + b_area - c_area\n",
    "    intersecion_area = c_area\n",
    "    \n",
    "    smooth = 1e-6\n",
    "#     print(intersecion_area)\n",
    "    \n",
    "    return (intersecion_area + smooth) / (union_area + smooth)"
   ]
  },
  {
   "cell_type": "code",
   "execution_count": 99,
   "metadata": {},
   "outputs": [],
   "source": [
    "def calc_iou_many_to_one(boxes, ground_truth):\n",
    "    \"\"\"\n",
    "    Param: boxes: shape([N, 4]), ground_truth: shape([4])\n",
    "    Return: IoU of boxes over on ground truth box\n",
    "    \n",
    "    Each boxes should be like [x1, y1, x2, y2],\n",
    "    and x1 <= x2, y1 <= y2\n",
    "    \"\"\"\n",
    "    \n",
    "    (gt_x1, gt_y1, gt_x2, gt_y2) = ground_truth\n",
    "    boxes_x1s = boxes[:, 0]\n",
    "    boxes_y1s = boxes[:, 1]\n",
    "    boxes_x2s = boxes[:, 2]\n",
    "    boxes_y2s = boxes[:, 3]\n",
    "    \n",
    "    assert (gt_x1 <= gt_x2) & (gt_y1 <= gt_y2)\n",
    "    assert (boxes_x1s <= boxes_x2s).all() & (boxes_y1s <= boxes_y2s).all()\n",
    "    \n",
    "    inter_x1s = torch.max(boxes_x1s, gt_x1)\n",
    "    inter_y1s = torch.max(boxes_y1s, gt_y1)\n",
    "    inter_x2s = torch.min(boxes_x2s, gt_x2)\n",
    "    inter_y2s = torch.min(boxes_y2s, gt_y2)\n",
    "    \n",
    "    assert (inter_x1s <= inter_x2s).all() & (inter_y1s <= inter_y2s).all()\n",
    "        \n",
    "    gt_area = (gt_x2 - gt_x1) * (gt_y2 - gt_y1)\n",
    "    box_areas = (boxes_x2s - boxes_x1s) * (boxes_y2s - boxes_y1s)\n",
    "    intersect_areas = (inter_x2s - inter_x1s) * (inter_y2s - inter_y1s)\n",
    "    \n",
    "    union_area = gt_area + box_areas - intersect_areas\n",
    "    intersecion_area = intersect_areas\n",
    "\n",
    "    smooth = 1e-6    \n",
    "    return (intersecion_area + smooth) / (union_area + smooth)\n"
   ]
  },
  {
   "cell_type": "code",
   "execution_count": 100,
   "metadata": {},
   "outputs": [],
   "source": [
    "ground_truth = torch.tensor([2.0, 2.0, 5.0, 5.0])\n",
    "\n",
    "many_boxes = torch.tensor([\n",
    "    [1.0, 1.0, 3.0, 3.0],\n",
    "    [1.0, 4.0, 3.0, 6.0],\n",
    "    [4.0, 4.0, 6.0, 6.0],\n",
    "    [2.0, 2.0, 4.0, 4.0],\n",
    "    [3.0, 3.0, 4.0, 4.0]\n",
    "])"
   ]
  },
  {
   "cell_type": "code",
   "execution_count": 102,
   "metadata": {},
   "outputs": [
    {
     "data": {
      "text/plain": [
       "tensor([0.0833, 0.0833, 0.0833, 0.4444, 0.1111])"
      ]
     },
     "execution_count": 102,
     "metadata": {},
     "output_type": "execute_result"
    }
   ],
   "source": [
    "ret = calc_iou_many_to_one(many_boxes, ground_truth)\n",
    "ret"
   ]
  },
  {
   "cell_type": "code",
   "execution_count": 103,
   "metadata": {},
   "outputs": [
    {
     "data": {
      "text/plain": [
       "tensor(True)"
      ]
     },
     "execution_count": 103,
     "metadata": {},
     "output_type": "execute_result"
    }
   ],
   "source": [
    "threshold = 0.0001\n",
    "\n",
    "torch.all(\n",
    "    torch.lt(\n",
    "        torch.abs(torch.add(ret,\n",
    "                            -torch.tensor([1/12, 1/12, 1/12, 4/9, 1/9]))),\n",
    "    threshold))"
   ]
  },
  {
   "cell_type": "code",
   "execution_count": 104,
   "metadata": {},
   "outputs": [
    {
     "data": {
      "text/plain": [
       "tensor([True, True, True, True, True])"
      ]
     },
     "execution_count": 104,
     "metadata": {},
     "output_type": "execute_result"
    }
   ],
   "source": [
    "torch.lt(torch.abs(torch.add(ret,-torch.tensor([1/12, 1/12, 1/12, 4/9, 1/9]))),threshold)"
   ]
  },
  {
   "cell_type": "code",
   "execution_count": 98,
   "metadata": {},
   "outputs": [
    {
     "data": {
      "text/plain": [
       "tensor(True)"
      ]
     },
     "execution_count": 98,
     "metadata": {},
     "output_type": "execute_result"
    }
   ],
   "source": [
    "(boxes_x1s <= boxes_x2s).all()"
   ]
  },
  {
   "cell_type": "code",
   "execution_count": null,
   "metadata": {},
   "outputs": [],
   "source": []
  },
  {
   "cell_type": "code",
   "execution_count": 91,
   "metadata": {},
   "outputs": [
    {
     "data": {
      "text/plain": [
       "torch.Size([4])"
      ]
     },
     "execution_count": 91,
     "metadata": {},
     "output_type": "execute_result"
    }
   ],
   "source": [
    "ground_truth.shape"
   ]
  },
  {
   "cell_type": "code",
   "execution_count": 92,
   "metadata": {},
   "outputs": [
    {
     "data": {
      "text/plain": [
       "torch.Size([5, 4])"
      ]
     },
     "execution_count": 92,
     "metadata": {},
     "output_type": "execute_result"
    }
   ],
   "source": [
    "many_boxes.shape"
   ]
  },
  {
   "cell_type": "code",
   "execution_count": 63,
   "metadata": {},
   "outputs": [],
   "source": [
    "(gt_x1, gt_y1, gt_x2, gt_y2) = ground_truth"
   ]
  },
  {
   "cell_type": "code",
   "execution_count": 59,
   "metadata": {},
   "outputs": [
    {
     "data": {
      "text/plain": [
       "tensor([[1., 1., 3., 3.],\n",
       "        [1., 4., 3., 6.],\n",
       "        [4., 4., 6., 6.],\n",
       "        [2., 2., 4., 4.],\n",
       "        [3., 3., 4., 4.]])"
      ]
     },
     "execution_count": 59,
     "metadata": {},
     "output_type": "execute_result"
    }
   ],
   "source": [
    "many_boxes"
   ]
  },
  {
   "cell_type": "code",
   "execution_count": 64,
   "metadata": {},
   "outputs": [],
   "source": [
    "boxes_x1s = many_boxes[:, 0]\n",
    "boxes_y1s = many_boxes[:, 1]\n",
    "boxes_x2s = many_boxes[:, 2]\n",
    "boxes_y2s = many_boxes[:, 3]"
   ]
  },
  {
   "cell_type": "code",
   "execution_count": 68,
   "metadata": {},
   "outputs": [
    {
     "data": {
      "text/plain": [
       "tensor(2.)"
      ]
     },
     "execution_count": 68,
     "metadata": {},
     "output_type": "execute_result"
    }
   ],
   "source": [
    "gt_x1"
   ]
  },
  {
   "cell_type": "code",
   "execution_count": 67,
   "metadata": {},
   "outputs": [
    {
     "data": {
      "text/plain": [
       "tensor([1., 1., 4., 2., 3.])"
      ]
     },
     "execution_count": 67,
     "metadata": {},
     "output_type": "execute_result"
    }
   ],
   "source": [
    "boxes_x1s"
   ]
  },
  {
   "cell_type": "code",
   "execution_count": 81,
   "metadata": {},
   "outputs": [],
   "source": [
    "inter_x1s = torch.max(boxes_x1s, gt_x1)\n",
    "inter_y1s = torch.max(boxes_y1s, gt_y1)\n",
    "inter_x2s = torch.min(boxes_x2s, gt_x2)\n",
    "inter_y2s = torch.min(boxes_y2s, gt_y2)"
   ]
  },
  {
   "cell_type": "code",
   "execution_count": null,
   "metadata": {},
   "outputs": [],
   "source": [
    "gt_area = (ax2 - ax1) * (ay2 - ay1)"
   ]
  },
  {
   "cell_type": "code",
   "execution_count": null,
   "metadata": {},
   "outputs": [],
   "source": []
  },
  {
   "cell_type": "code",
   "execution_count": 74,
   "metadata": {},
   "outputs": [
    {
     "data": {
      "text/plain": [
       "tensor([2., 2., 2., 2., 1.])"
      ]
     },
     "execution_count": 74,
     "metadata": {},
     "output_type": "execute_result"
    }
   ],
   "source": [
    "boxes_x2s - boxes_x1s"
   ]
  },
  {
   "cell_type": "code",
   "execution_count": 82,
   "metadata": {},
   "outputs": [],
   "source": [
    "gt_area = (gt_x2 - gt_x1) * (gt_y2 - gt_y1)\n",
    "box_areas = (boxes_x2s - boxes_x1s) * (boxes_y2s - boxes_y1s)\n",
    "intersect_areas = (inter_x2s - inter_x1s) * (inter_y2s - inter_y1s)"
   ]
  },
  {
   "cell_type": "code",
   "execution_count": 86,
   "metadata": {},
   "outputs": [
    {
     "data": {
      "text/plain": [
       "tensor(9.)"
      ]
     },
     "execution_count": 86,
     "metadata": {},
     "output_type": "execute_result"
    }
   ],
   "source": [
    "gt_area"
   ]
  },
  {
   "cell_type": "code",
   "execution_count": 84,
   "metadata": {},
   "outputs": [
    {
     "data": {
      "text/plain": [
       "tensor([13., 13., 13., 13., 10.])"
      ]
     },
     "execution_count": 84,
     "metadata": {},
     "output_type": "execute_result"
    }
   ],
   "source": [
    "gt_area + box_areas"
   ]
  },
  {
   "cell_type": "code",
   "execution_count": 87,
   "metadata": {},
   "outputs": [],
   "source": [
    "union_area = gt_area + box_areas - intersect_areas\n",
    "intersecion_area = intersect_areas\n"
   ]
  },
  {
   "cell_type": "code",
   "execution_count": 88,
   "metadata": {},
   "outputs": [
    {
     "data": {
      "text/plain": [
       "tensor([0.0833, 0.0833, 0.0833, 0.4444, 0.1111])"
      ]
     },
     "execution_count": 88,
     "metadata": {},
     "output_type": "execute_result"
    }
   ],
   "source": [
    "intersecion_area / union_area"
   ]
  },
  {
   "cell_type": "code",
   "execution_count": null,
   "metadata": {},
   "outputs": [],
   "source": []
  },
  {
   "cell_type": "code",
   "execution_count": 77,
   "metadata": {},
   "outputs": [
    {
     "data": {
      "text/plain": [
       "tensor([4., 4., 4., 4., 1.])"
      ]
     },
     "execution_count": 77,
     "metadata": {},
     "output_type": "execute_result"
    }
   ],
   "source": [
    "box_areas"
   ]
  },
  {
   "cell_type": "code",
   "execution_count": 78,
   "metadata": {},
   "outputs": [
    {
     "data": {
      "text/plain": [
       "tensor(9.)"
      ]
     },
     "execution_count": 78,
     "metadata": {},
     "output_type": "execute_result"
    }
   ],
   "source": [
    "gt_area"
   ]
  },
  {
   "cell_type": "code",
   "execution_count": 65,
   "metadata": {},
   "outputs": [
    {
     "data": {
      "text/plain": [
       "tensor([1., 1., 4., 2., 3.])"
      ]
     },
     "execution_count": 65,
     "metadata": {},
     "output_type": "execute_result"
    }
   ],
   "source": [
    "boxes_x1s"
   ]
  },
  {
   "cell_type": "code",
   "execution_count": 66,
   "metadata": {},
   "outputs": [
    {
     "data": {
      "text/plain": [
       "tensor([3., 6., 6., 4., 4.])"
      ]
     },
     "execution_count": 66,
     "metadata": {},
     "output_type": "execute_result"
    }
   ],
   "source": [
    "boxes_y2s"
   ]
  },
  {
   "cell_type": "code",
   "execution_count": 42,
   "metadata": {},
   "outputs": [],
   "source": [
    "box  = torch.tensor([2.0, 2.0, 5.0, 5.0])"
   ]
  },
  {
   "cell_type": "code",
   "execution_count": 43,
   "metadata": {},
   "outputs": [],
   "source": [
    "box1 = torch.tensor([0.0, 0.0, 2.0, 2.0])\n",
    "\n",
    "ret = calc_iou(box, box1)"
   ]
  },
  {
   "cell_type": "code",
   "execution_count": 47,
   "metadata": {},
   "outputs": [
    {
     "data": {
      "text/plain": [
       "7.692307235629414e-08"
      ]
     },
     "execution_count": 47,
     "metadata": {},
     "output_type": "execute_result"
    }
   ],
   "source": [
    "ret.item()"
   ]
  },
  {
   "cell_type": "code",
   "execution_count": 31,
   "metadata": {},
   "outputs": [
    {
     "data": {
      "text/plain": [
       "torch.Size([])"
      ]
     },
     "execution_count": 31,
     "metadata": {},
     "output_type": "execute_result"
    }
   ],
   "source": [
    "ret.shape"
   ]
  },
  {
   "cell_type": "code",
   "execution_count": 32,
   "metadata": {},
   "outputs": [
    {
     "data": {
      "text/plain": [
       "torch.Size([4])"
      ]
     },
     "execution_count": 32,
     "metadata": {},
     "output_type": "execute_result"
    }
   ],
   "source": [
    "box.shape"
   ]
  },
  {
   "cell_type": "code",
   "execution_count": 33,
   "metadata": {},
   "outputs": [],
   "source": [
    "data = [[1, 2],[3, 4]]\n",
    "x_data = torch.tensor(data)\n"
   ]
  },
  {
   "cell_type": "code",
   "execution_count": 35,
   "metadata": {},
   "outputs": [
    {
     "data": {
      "text/plain": [
       "torch.Size([2, 2])"
      ]
     },
     "execution_count": 35,
     "metadata": {},
     "output_type": "execute_result"
    }
   ],
   "source": [
    "x_data.shape"
   ]
  },
  {
   "cell_type": "code",
   "execution_count": null,
   "metadata": {},
   "outputs": [],
   "source": []
  }
 ],
 "metadata": {
  "kernelspec": {
   "display_name": "Python 3",
   "language": "python",
   "name": "python3"
  },
  "language_info": {
   "codemirror_mode": {
    "name": "ipython",
    "version": 3
   },
   "file_extension": ".py",
   "mimetype": "text/x-python",
   "name": "python",
   "nbconvert_exporter": "python",
   "pygments_lexer": "ipython3",
   "version": "3.8.5"
  }
 },
 "nbformat": 4,
 "nbformat_minor": 4
}
